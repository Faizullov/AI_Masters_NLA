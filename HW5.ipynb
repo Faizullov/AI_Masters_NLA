{
  "nbformat": 4,
  "nbformat_minor": 0,
  "metadata": {
    "colab": {
      "provenance": []
    },
    "kernelspec": {
      "name": "python3",
      "display_name": "Python 3"
    },
    "language_info": {
      "name": "python"
    }
  },
  "cells": [
    {
      "cell_type": "markdown",
      "source": [
        "#Домашнее задание 5 (30 + 25 = 55 pts )\n",
        "## Файзуллов Айрат"
      ],
      "metadata": {
        "id": "tHv9fnWqOez0"
      }
    },
    {
      "cell_type": "markdown",
      "source": [
        "# Задача 1 (30 pts)"
      ],
      "metadata": {
        "id": "fd4AYBlnPBo-"
      }
    },
    {
      "cell_type": "markdown",
      "source": [
        "(5 pts) Докажите, что $\\mathrm{vec}(AXB) = (B^\\top \\otimes A)\\, \\mathrm{vec}(X)$, если $\\mathrm{vec}(X)$ векторизация матрицы по столбцам. Что и почему изменится, если использовать векторизацию по строкам? "
      ],
      "metadata": {
        "id": "R_zlCgMGpNvn"
      }
    },
    {
      "cell_type": "markdown",
      "source": [
        "Доказать, что $vec(AXB) = (B^T ⨂ A)\\cdot vec(X)$ \\\\\n",
        "$X^{l \\times n}, B^{n \\times m}, A^{r \\times l}$ \\\\\n",
        "Запишем матрицу X через столбцы как $X=[x_1, x_2, ..., x_n]$ \\\\\n",
        "Рассмоотрим k-ый столбец матрицы $AXB$ \\\\\n",
        "$(AXB)_k = A \\sum_{i=1}^{n}x_ib_{i, k} = [b_{1, k}A, ..., b_{m, k}A]\\cdot [x_1, x_2, ..., x_m]^T = [b_k^T ⨂ A]vec(X)$, где $b_k$ - k-ый столбец матрицы $B$ \\\\\n",
        "производя те же действя для всех столбцов матрицы $AXB$ получим \\\\\n",
        "$vec(AXB) = \\begin{pmatrix}\n",
        "b_1^T ⨂ A \\\\\n",
        "... \\\\\n",
        "b_n^T ⨂ A\n",
        "\\end{pmatrix} \\cdot vec(X) ⇒ vec(AXB) = (B^T ⨂ A)\\cdot vec(X)$ \n",
        "\n",
        "\n",
        "\n"
      ],
      "metadata": {
        "id": "XcXaXWLAZr-M"
      }
    },
    {
      "cell_type": "markdown",
      "source": [
        "(2 pts) Какова сложность наивного вычисления $(A \\otimes B) x$ и почему она такова? Покажите, как она может быть снижена."
      ],
      "metadata": {
        "id": "MIm7gMqApJaQ"
      }
    },
    {
      "cell_type": "markdown",
      "source": [
        "Даны матрицы: $A^{m \\times n}, B^{l \\times r}$ $$A ⨂ B = \\begin{pmatrix}\n",
        "a_{11}B & ... & a_{1n}B \\\\\n",
        "& ... & \\\\\n",
        "a_{m1}B & ... & a_{mn}B\n",
        "\\end{pmatrix} $$ получаем матрицу размера $ml \\times nr$. Значит наивное вычисление $(A ⨂ B)x$ оценивается как $O(mlnr)$ \\\\\n",
        "Снизим сложность вычисления: \\\\\n",
        "Разобъем вектор $x$ на n равных частей, каждая из которых обладает длиной l. Каждую часть умножим на матрицу $B$. Получившиеся вектора длины $l$ умножим на коэффициенты матрицы $A$ и сложим эти вектора. Таким образом первый шаг у нас займет $O(lrn)$, а второй шаг зайем по времени $O(mnl)$. Общая сложность по времени составит: $O(lrn + mnl)$\n"
      ],
      "metadata": {
        "id": "CumMwpgPpQYU"
      }
    },
    {
      "cell_type": "markdown",
      "source": [
        "(3 pts) Пусть матрицы $A$ и $B$ имеют спектральные разложения $A = S_A\\Lambda_A S_A^{-1}$ и $B = S_B\\Lambda_B S^{-1}_B$. Найдите собственные векторы и собственные значения у матрицы $A\\otimes I + I \\otimes B$."
      ],
      "metadata": {
        "id": "rFYyatIrvs65"
      }
    },
    {
      "cell_type": "markdown",
      "source": [
        "Empty"
      ],
      "metadata": {
        "id": "fC5d6YEOxbFr"
      }
    },
    {
      "cell_type": "markdown",
      "source": [
        " (10 pts) Пусть $A = \\mathrm{diag}\\left(\\frac{2}{1000},\\frac{3}{1000},\\dots \\frac{999}{1000}, 1, 1000 \\right)$. Оцените аналитически число итераций необходимых для решения линейной системы с матрицей $A$ с относительной точностью $10^{-5}$ используя\n",
        "    - метод Ричардсона с оптимальным параметром (используйте евклидову норму)\n",
        "    - метод Чебышёва (используйте евклидову норму)\n",
        "    - метод сопряжённых градиентов (используйте $A$-норму).\n",
        "    \n",
        "и сравните вашу оценку с экспериментальными результатами."
      ],
      "metadata": {
        "id": "D8gDZeILvuAD"
      }
    },
    {
      "cell_type": "markdown",
      "source": [
        "Создадим матрицу А"
      ],
      "metadata": {
        "id": "AjQyxGknxbb1"
      }
    },
    {
      "cell_type": "code",
      "source": [
        "import numpy as np\n",
        "a = np.arange(0.002, 1, 0.001)\n",
        "a = np.append(a, [1, 1000])\n",
        "A = np.diag(a)\n",
        "print(A)\n",
        "print(A.shape)"
      ],
      "metadata": {
        "colab": {
          "base_uri": "https://localhost:8080/"
        },
        "id": "jfBYEJoCvtYX",
        "outputId": "cec4e8ae-50a4-45df-94d6-338cc7ccabfc"
      },
      "execution_count": 32,
      "outputs": [
        {
          "output_type": "stream",
          "name": "stdout",
          "text": [
            "[[2.00e-03 0.00e+00 0.00e+00 ... 0.00e+00 0.00e+00 0.00e+00]\n",
            " [0.00e+00 3.00e-03 0.00e+00 ... 0.00e+00 0.00e+00 0.00e+00]\n",
            " [0.00e+00 0.00e+00 4.00e-03 ... 0.00e+00 0.00e+00 0.00e+00]\n",
            " ...\n",
            " [0.00e+00 0.00e+00 0.00e+00 ... 9.99e-01 0.00e+00 0.00e+00]\n",
            " [0.00e+00 0.00e+00 0.00e+00 ... 0.00e+00 1.00e+00 0.00e+00]\n",
            " [0.00e+00 0.00e+00 0.00e+00 ... 0.00e+00 0.00e+00 1.00e+03]]\n",
            "(1000, 1000)\n"
          ]
        }
      ]
    },
    {
      "cell_type": "markdown",
      "source": [
        "Создадим вектор x, который будет являть эталонным решением"
      ],
      "metadata": {
        "id": "E-siwH6Uz8US"
      }
    },
    {
      "cell_type": "code",
      "source": [
        "check = np.ones(1000)\n"
      ],
      "metadata": {
        "id": "P3n9j_PC0BY4"
      },
      "execution_count": 33,
      "outputs": []
    },
    {
      "cell_type": "markdown",
      "source": [
        "Воспользуемся методом Ричардсона"
      ],
      "metadata": {
        "id": "AGOgAGuuyyTV"
      }
    },
    {
      "cell_type": "markdown",
      "source": [
        "Определим $τ = \\frac{2}{λ_{max} + λ_{min}}$ \\\\\n",
        "и решение будем приближать по методу $x_{k+1} = x_{k} - τ(Ax_k - x_{original})$\n"
      ],
      "metadata": {
        "id": "PHYXHdQYNSvH"
      }
    },
    {
      "cell_type": "markdown",
      "source": [
        "Точность решение в $10^{-5}$ будет достигаться за $\\frac{ln(10^{-5} - ln||e_0||)}{ln(\\frac{λ_{max} - λ_{min}}{λ_{max} + λ_{min}})}$, что даёт оценку как $10^6$"
      ],
      "metadata": {
        "id": "81U4dDyVeRVd"
      }
    },
    {
      "cell_type": "code",
      "execution_count": 73,
      "metadata": {
        "id": "KZMNrHjpt6zf"
      },
      "outputs": [],
      "source": [
        "import matplotlib.pyplot as plt\n",
        "%matplotlib inline\n",
        "\n",
        "\n",
        "x = np.zeros(1000)\n",
        "tau = 2.0 / (A[0, 0] + A[999, 999])\n",
        "\n",
        "res_richardson = []\n",
        "check_miss = 10\n",
        "while check_miss > 1e-5:\n",
        "    miss = A.dot(x) - check\n",
        "    x = x - tau * miss\n",
        "    check_miss = np.linalg.norm(miss)\n",
        "    res_richardson.append(check_miss)"
      ]
    },
    {
      "cell_type": "markdown",
      "source": [
        "Видим, что было совершено около 3*$10^6$ операций"
      ],
      "metadata": {
        "id": "opz0yq-rRCgR"
      }
    },
    {
      "cell_type": "code",
      "source": [
        "print(len(res_richardson))"
      ],
      "metadata": {
        "colab": {
          "base_uri": "https://localhost:8080/"
        },
        "id": "oiZq3YULQVOH",
        "outputId": "448142b1-2805-4721-e4c5-851545f5a747"
      },
      "execution_count": 76,
      "outputs": [
        {
          "output_type": "stream",
          "name": "stdout",
          "text": [
            "2964877\n"
          ]
        }
      ]
    },
    {
      "cell_type": "code",
      "source": [
        "plt.plot(res_richardson)\n",
        "plt.yscale(\"log\")"
      ],
      "metadata": {
        "colab": {
          "base_uri": "https://localhost:8080/",
          "height": 278
        },
        "id": "8SSp0-uSE7HZ",
        "outputId": "5d62fc95-455f-43a6-e26e-efd7cde161e3"
      },
      "execution_count": 82,
      "outputs": [
        {
          "output_type": "display_data",
          "data": {
            "text/plain": [
              "<Figure size 432x288 with 1 Axes>"
            ],
            "image/png": "[encoded data removed]"
          },
          "metadata": {
            "needs_background": "light"
          }
        }
      ]
    },
    {
      "cell_type": "markdown",
      "source": [
        "Асимптотически можно оценить, что на подсчёт решения нам придется тратить $10^6$ операций"
      ],
      "metadata": {
        "id": "UXWkDiqqRdTf"
      }
    },
    {
      "cell_type": "markdown",
      "source": [
        "Воспользуемся методом Чебышёва"
      ],
      "metadata": {
        "id": "_wbb8MSPM93o"
      }
    },
    {
      "cell_type": "markdown",
      "source": [
        "Будем выбирать $\\tau_i$ на каждом шаге: $τ_i = \\frac{2}{λ_{max} + λ_{min} - (λ_{max} - λ_{min})x_i}$"
      ],
      "metadata": {
        "id": "neCyrZwFSE-M"
      }
    },
    {
      "cell_type": "markdown",
      "source": [
        "Воспользуемся перестановками, т.к. иначе решение не будет сходиться "
      ],
      "metadata": {
        "id": "1rLT6ElSTVOi"
      }
    },
    {
      "cell_type": "code",
      "source": [
        "# Использовал основу кода с лекций\n",
        "niters = 2**13\n",
        "roots = [np.cos((np.pi * (2 * i + 1)) / (2 * niters)) for i in range(niters)]\n",
        "taus = [(A[999, 999] + A[0, 0] - (A[0, 0] - A[999, 999]) * r) / 2 for r in roots]\n",
        "x = np.zeros(1000)\n",
        "r = A.dot(x) - check\n",
        "res_cheb_even = [np.linalg.norm(r)]\n",
        "\n",
        "def leb_shuffle_2n(n):\n",
        "    if n == 1:\n",
        "        return np.array([0,], dtype=int)\n",
        "    else:\n",
        "        prev = leb_shuffle_2n(n // 2)\n",
        "        ans = np.zeros(n, dtype=int)\n",
        "        ans[::2] = prev\n",
        "        ans[1::2] = n - 1 - prev\n",
        "        return ans\n",
        "\n",
        "good_perm_even = leb_shuffle_2n(niters)\n",
        "\n",
        "for i in range(niters):\n",
        "    x = x - 1.0/taus[good_perm_even[i]] * r\n",
        "    r = A.dot(x) - check\n",
        "    miss_check = np.linalg.norm(r)\n",
        "    res_cheb_even.append(miss_check)\n",
        "    if miss_check < 1e-5:\n",
        "      break"
      ],
      "metadata": {
        "id": "6-uFu82hWVSn"
      },
      "execution_count": 110,
      "outputs": []
    },
    {
      "cell_type": "code",
      "source": [
        "plt.semilogy(res_cheb_even)"
      ],
      "metadata": {
        "colab": {
          "base_uri": "https://localhost:8080/",
          "height": 283
        },
        "id": "f9Ye7-tMVrmz",
        "outputId": "91fdedf0-1e75-49d0-d661-ec365ccf67bc"
      },
      "execution_count": 111,
      "outputs": [
        {
          "output_type": "execute_result",
          "data": {
            "text/plain": [
              "[<matplotlib.lines.Line2D at 0x7f9e83d19040>]"
            ]
          },
          "metadata": {},
          "execution_count": 111
        },
        {
          "output_type": "display_data",
          "data": {
            "text/plain": [
              "<Figure size 432x288 with 1 Axes>"
            ],
            "image/png": "[encoded data removed]"
          },
          "metadata": {
            "needs_background": "light"
          }
        }
      ]
    },
    {
      "cell_type": "markdown",
      "source": [
        "Видим, что было совершено около 6000 операций. \\\\\n",
        "Асимптотически можно оценить, что на подсчет уйдет $10^3$ операций"
      ],
      "metadata": {
        "id": "vtCGQvtsZzXF"
      }
    },
    {
      "cell_type": "markdown",
      "source": [
        "Метод сопряжённых градиентов"
      ],
      "metadata": {
        "id": "OmhUeeGxaDgL"
      }
    },
    {
      "cell_type": "markdown",
      "source": [
        "$x_{i+1} = x_{i} + α_{i}\\cdot p_{i}$"
      ],
      "metadata": {
        "id": "RNgqeOnVbf4k"
      }
    },
    {
      "cell_type": "code",
      "source": [
        "import scipy.sparse.linalg as spla\n",
        "\n",
        "res = []\n",
        "def put_res(x):\n",
        "  res.append(np.linalg.norm(A.dot(x) - check))\n",
        "\n",
        "ans = spla.cg(A, check, tol=1e-8, atol=1e-5, callback=put_res, maxiter=1000)"
      ],
      "metadata": {
        "id": "Oc-qSHA8aG5v"
      },
      "execution_count": 118,
      "outputs": []
    },
    {
      "cell_type": "markdown",
      "source": [
        "Асимптотически должна быть сходимость как в методе Чебышёва, но с меньшей константой"
      ],
      "metadata": {
        "id": "5YJ6wItqdwSj"
      }
    },
    {
      "cell_type": "code",
      "source": [
        "plt.semilogy(res)"
      ],
      "metadata": {
        "colab": {
          "base_uri": "https://localhost:8080/",
          "height": 283
        },
        "id": "UBnT8XvudOnP",
        "outputId": "82f0619a-da01-41a7-95c9-49915795a5ec"
      },
      "execution_count": 119,
      "outputs": [
        {
          "output_type": "execute_result",
          "data": {
            "text/plain": [
              "[<matplotlib.lines.Line2D at 0x7f9e7dc8ea30>]"
            ]
          },
          "metadata": {},
          "execution_count": 119
        },
        {
          "output_type": "display_data",
          "data": {
            "text/plain": [
              "<Figure size 432x288 with 1 Axes>"
            ],
            "image/png": "[encoded data removed]"
          },
          "metadata": {
            "needs_background": "light"
          }
        }
      ]
    },
    {
      "cell_type": "markdown",
      "source": [
        "Видим, что понадобилось около 200 операций. Асимптотически можно оценить, что на подсчёт уйдет $10^2$ операций"
      ],
      "metadata": {
        "id": "wLjW-QSodcHQ"
      }
    },
    {
      "cell_type": "markdown",
      "source": [
        "(5 pts) Рассмотрим систему линейных уравнений вида $(I + uu^{\\top})x = b$, $u \\neq 0$. За сколько итераций сойдётся метод сопряжённых градиентов для этой системы? Получите ответ аналитически, после чего приведите экспериментальное подтверждение его правильности."
      ],
      "metadata": {
        "id": "fs5WbFH-hQVN"
      }
    },
    {
      "cell_type": "code",
      "source": [
        "u = np.random.rand(1000)[np.newaxis].T\n",
        "A = np.eye(1000) + u @ u.T\n",
        "\n",
        "res = []\n",
        "def put_res(x):\n",
        "  res.append(np.linalg.norm(A.dot(x) - check))\n",
        "\n",
        "ans = spla.cg(A, check, tol=1e-8, atol=1e-5, callback=put_res, maxiter=1000)\n"
      ],
      "metadata": {
        "id": "mOU70V5sigfi"
      },
      "execution_count": 130,
      "outputs": []
    },
    {
      "cell_type": "code",
      "source": [
        "plt.semilogy(res)"
      ],
      "metadata": {
        "colab": {
          "base_uri": "https://localhost:8080/",
          "height": 283
        },
        "id": "1xUr-hYpjsl6",
        "outputId": "9e4bfffe-d051-41f2-8640-845a0555dda2"
      },
      "execution_count": 131,
      "outputs": [
        {
          "output_type": "execute_result",
          "data": {
            "text/plain": [
              "[<matplotlib.lines.Line2D at 0x7f9e7dcff490>]"
            ]
          },
          "metadata": {},
          "execution_count": 131
        },
        {
          "output_type": "display_data",
          "data": {
            "text/plain": [
              "<Figure size 432x288 with 1 Axes>"
            ],
            "image/png": "[encoded data removed]"
          },
          "metadata": {
            "needs_background": "light"
          }
        }
      ]
    },
    {
      "cell_type": "markdown",
      "source": [
        "Видим, что результат с нужной оценкой получили за за 1 итерацию. Это проищошла, т.к. у матрицы число обусловленности было равно 1, что показывает, что решение полуим после одной итерации."
      ],
      "metadata": {
        "id": "3MniAx11jw1g"
      }
    },
    {
      "cell_type": "markdown",
      "source": [
        "(5 pts) Покажите, как связан детерминант матрицы\n",
        "$$\n",
        "\\begin{bmatrix}\n",
        "x & 1 & 0 & \\ldots & 0\\\\\n",
        "1 & 2x & 1 & \\ldots & 0 \\\\\n",
        "\\vdots & \\vdots & \\vdots & \\vdots & \\vdots \\\\\n",
        "0 & 0 & \\ldots & 2x & 1 \\\\\n",
        "0 & 0 & \\ldots & 1 & 2x\n",
        "\\end{bmatrix}\n",
        "$$\n",
        "\n",
        "с полиномом Чебышёва степени $n$"
      ],
      "metadata": {
        "id": "iproI-u1dnaI"
      }
    },
    {
      "cell_type": "markdown",
      "source": [
        "Запишем полином Чебышева: $T_n(x) = 2xT_{n-1}(x) - T_{n-2}(x), T_0(x)=1, T_1(x)=x$ \\\\\n",
        "Если рассмотерть определитель заданной матрицы, то можно заметить закономерность для определительей различного порядка, что $Det_n = 2xDet_{n-1} - Det_{n-2}$ и $Det_1 = x$. Видно полную аналогию с полиномом Чебышёва, таким образом детерминант заданной матрицы и полином свзяаны."
      ],
      "metadata": {
        "id": "JgHKIQ0PfNNC"
      }
    }
  ]
}