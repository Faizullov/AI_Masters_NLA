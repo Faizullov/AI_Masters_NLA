{
  "nbformat": 4,
  "nbformat_minor": 0,
  "metadata": {
    "colab": {
      "provenance": [],
      "collapsed_sections": []
    },
    "kernelspec": {
      "name": "python3",
      "display_name": "Python 3"
    },
    "language_info": {
      "name": "python"
    }
  },
  "cells": [
    {
      "cell_type": "markdown",
      "source": [
        "##Файзуллов Айрат"
      ],
      "metadata": {
        "id": "ovZBRo4EMfSu"
      }
    },
    {
      "cell_type": "markdown",
      "source": [
        "- (1 pts) Покажите, что если матрица $A$ обратима, то $\\|A^{-1}\\|_F \\geq \\frac{\\sqrt{n}}{\\|A\\|_F}$"
      ],
      "metadata": {
        "id": "aDowp_y0qcD3"
      }
    },
    {
      "cell_type": "markdown",
      "source": [
        "По свойству субмультипликативности:\n",
        "$\\|AA^{-1}\\|_F \\leq \\|A\\|_F\\|A^{-1}\\|_F$ \\\\\n",
        "$AA^{-1} = I, \\ \\|I\\|_F = \\sqrt n$, т.к. Фробениусова норма это квадрат суммы элементов матрицы, а в матрице $I$ есть только $n$ единиц \\\\\n",
        "$\\sqrt n \\leq \\|A\\|_F\\|A^{-1}\\|_F ⇒ \\|A^{-1}\\|_F \\geq \\frac{\\sqrt{n}}{\\|A\\|_F}$"
      ],
      "metadata": {
        "id": "JdxJkDh-qgqw"
      }
    },
    {
      "cell_type": "markdown",
      "source": [
        "- (3 pts) Рассмотрим матрицу $A = \\begin{bmatrix} I & a \\\\ a^{\\top} & 0 \\end{bmatrix}$. Когда она является обратимой? Пусть она обратима, тогда найдите выражение для $A^{-1}$"
      ],
      "metadata": {
        "id": "gSDDfKShqdUD"
      }
    },
    {
      "cell_type": "markdown",
      "source": [
        "$\\begin{bmatrix} A & B \\\\ C & D \\end{bmatrix}$ - блочная матрица \\\\\n",
        "\n",
        "$\\begin{bmatrix} A & B \\\\ C & D \\end{bmatrix} = \\begin{bmatrix} I & 0 \\\\ CA^{-1} & I \\end{bmatrix} \\begin{bmatrix} A & 0 \\\\ 0 & D-CA^{-1}B \\end{bmatrix} \\begin{bmatrix} I & A^{-1}B \\\\ 0 & I \\end{bmatrix}$ \\\\\n",
        "Вычисляя определитель от блочной матрицы, нам придется считать только определитель от матрицы $\\begin{bmatrix} A & 0 \\\\ 0 & D-CA^{-1}B \\end{bmatrix}$, т.к. у других матрицах на диагоналях стоят единицы. \\\\\n",
        "$det\\begin{bmatrix} A & 0 \\\\ 0 & D-CA^{-1}B \\end{bmatrix} = det(A)det(D-CA^{-1}B) = det(AD - CB)$ \\\\\n",
        "Чтобы матрица была обратимой, нам необходимо, чтобы её определитель был отличен от нуля, исходя из выкладок выше мы можем найти определитель матрицы  $det\\begin{bmatrix} I & a \\\\ a^{\\top} & 0 \\end{bmatrix} = -det(aa^T)$ \\\\\n",
        "произведение вектора строки на вектор столбец дает значение, равное сумме квадратов элементов вектора, следоавтельно матрица $A$ является обратимой только при условии что сумма квадратов элемнтов вектора $a$ отлично от нуля. \\\\\n"
      ],
      "metadata": {
        "id": "DLrjRYglsPs6"
      }
    },
    {
      "cell_type": "markdown",
      "source": [
        "- (2 pts) Получите аналитически выражение обратной матрицы для следующей блочно-треугольной матрицы\n",
        "\n",
        "$$ \n",
        "\\begin{bmatrix} A_{11} & 0 \\\\ A_{21} & A_{22} \\end{bmatrix}.\n",
        "$$"
      ],
      "metadata": {
        "id": "KUzicL39yr6J"
      }
    },
    {
      "cell_type": "markdown",
      "source": [
        "$$ \n",
        "\\begin{bmatrix} A_{11} & 0 \\\\ A_{21} & A_{22} \\end{bmatrix} \\begin{bmatrix} A & B \\\\ C & D \\end{bmatrix} = \\begin{bmatrix} I & 0 \\\\ 0 & I \\end{bmatrix}\n",
        "$$\n",
        "Получаем систему\n",
        "$$\n",
        "A_{11}A = I \\\\\n",
        "A_{11}B = 0 \\\\\n",
        "A_{21}A + A_{22}C = 0 \\\\\n",
        "A_{21}B + A_{22}D = I \\\\\n",
        "$$\n",
        "Следовательно: \\\\\n",
        "$$\n",
        "A = A_{11}^{-1} \\\\\n",
        "B = 0 \\\\\n",
        "A_{21}A_{11}^{-1} + A_{22}C = 0 \\\\\n",
        "A_{22}D = I \\\\\n",
        "$$\n",
        "Следовательно:\n",
        "$$\n",
        "A = A_{11}^{-1} \\\\\n",
        "B = 0 \\\\\n",
        "C = -A_{22}^{-1}A_{21}A_{11}^{-1} \\\\\n",
        "D = A_{22}^{-1} \\\\\n",
        "$$\n",
        "Получаем обратную матрицу: \\\\\n",
        "$$\n",
        "\\begin{bmatrix} A_{11}^{-1} & 0 \\\\ -A_{22}^{-1}A_{21}A_{11}^{-1} & A_{22}^{-1} \\end{bmatrix}\n",
        "$$"
      ],
      "metadata": {
        "id": "boignBRszWEx"
      }
    },
    {
      "cell_type": "markdown",
      "source": [
        "### 1. LU разложение для ленточных матриц (7 pts)\n",
        "\n",
        "Сложность вычисления LU разложения для матрицы размера $n\\times n$ – $\\mathcal{O}(n^3)$.\n",
        "Существенного уменьшения сложности можно добиться для матриц определённой структуры, например разреженных. \n",
        "В этой задаче рассмотрим специальный класс разреженных матриц, а именно ленточные матрицы с шириной ленты 3 и 5, которые называются трёхдиагональными и пятидиагональными, соответственно.\n",
        "\n",
        "- (5 pts) Реализуйте функцию ```band_lu(diag_broadcast, n)```, которая вычисляет LU разложение для пяти- или трёхдиагональной матрицы, на основании данных значений на диагоналях. Предполагается, что на главной диагонали фактора ```L``` стоят 1.\n",
        "Например, входные параметры ```(diag_broadcast = [3,-5,4], n = 4)``` означают, что необходимо найти LU разложение для трёхдиагональной матрицы вида:\n",
        "\n",
        "$$A = \\begin{pmatrix}\n",
        "-5 & 4 & 0 & 0\\\\\n",
        "3 & -5 & 4 & 0 \\\\\n",
        "0 & 3 & -5 & 4 \\\\\n",
        "0 & 0 & 3 & -5 \\\\\n",
        "\\end{pmatrix}.$$\n",
        "\n",
        "Функция должна возвращать двумерные NumPy массивы ```L``` и ```U```, в которых хранятся диагонали факторов. Например, ```L[0]``` содержит первую под-диагональ (поскольку на главной диагонали стоят 1, то её возвращать не нужно), ```L[1]``` – вторую под-диагональ и т.д.), аналогично для $U$ (```U[:,0]``` содержит главную диагональ, ```U[:,1]``` содержит первую над-диагональ и т.д.). Прототип функции приведён ниже и не должен меняться.\n",
        "- (2 pts) Сравните время вычисления LU разложения с помощью стандартной функции в ```scipy```, которая ничего не знает о структуре матрицы, и вашей реализацией LU разложения для ленточной матрицы. Объясните результат. Постройте график зависимости времени факторизации от размерности факторизуемой матрицы. Выберите интервал размерностей факторизуемой матрицы так, чтобы динамика зависимости времени от размерности была различима. При необходимости используйте логарифмический масштаб по оси ```y```."
      ],
      "metadata": {
        "id": "syflq5qyWJzP"
      }
    },
    {
      "cell_type": "markdown",
      "source": [
        "###Выполним первый пункт задачи для случая трёхдиагональной матрицы\n",
        "Исходя из логики, что  $u_{ij} = a_{ij} - \\sum_{k=1}^{i-1}l_{ik}\\cdot u_{kj}$ и \n",
        "$l_{ij} = (a_{ij} - \\sum_{k=1}^{i-1}l_{ik}\\cdot u_{kj})/u_{jj}$, где $a_{ij}$ являются элементами матрицы $A$, а $l_{ij}, u_{ij}$ элементами нижнедиагональной и верхнедиагональных матриц, образованных от матрицы $A$. Исходя из этого получим наш алгоритм для трехдиагональной матрицы, в котором выполняются реккурентные соотношения для первой подиагонали элементов матрицы $L$ ($l$) и главной диагонали матрицы $U$ ($u$). $u_0 = a, l_0 = \\frac{c}{a}, u_1 = a - l_0\\cdot b, l_1 = \\frac{c}{u_1}$ и т.д., где $a$ - элемент на главной диагонали $A$, $c$ - элемент первой подиагонали матрицы $A$, $b$ - элемент первой над-диагонали матрицы $A$"
      ],
      "metadata": {
        "id": "Ie7zdiHIWqzS"
      }
    },
    {
      "cell_type": "code",
      "source": [
        "import numpy as np\n",
        "\n",
        "\n",
        "def band_lu(diag_broadcast, n):\n",
        "    L = np.zeros((1, n))\n",
        "    U = np.zeros((2, n))\n",
        "    a = diag_broadcast[1]\n",
        "    b = diag_broadcast[2]\n",
        "    c = diag_broadcast[0]\n",
        "    for i in range(n - 1):\n",
        "        U[0][i] = a - L[0][i - 1]*b\n",
        "        L[0][i] = c/U[0][i]\n",
        "        U[1][i] = b\n",
        "    U[0][n - 1] = a - L[0][n - 2]*b\n",
        "    return L, U.T"
      ],
      "metadata": {
        "id": "JEGGdxOAFMUx"
      },
      "execution_count": 3,
      "outputs": []
    },
    {
      "cell_type": "code",
      "source": [
        "diag_broadcast = [10, 24, 4]\n",
        "n = 1000"
      ],
      "metadata": {
        "id": "KvVGdR7IFQvp"
      },
      "execution_count": 9,
      "outputs": []
    },
    {
      "cell_type": "markdown",
      "source": [
        "Замеряем время для нашей функции"
      ],
      "metadata": {
        "id": "GBdORQkfnR68"
      }
    },
    {
      "cell_type": "code",
      "source": [
        "%timeit -o band_lu(diag_broadcast, n)\n"
      ],
      "metadata": {
        "colab": {
          "base_uri": "https://localhost:8080/"
        },
        "id": "t6yE4pTeTHVH",
        "outputId": "13f8e4f7-b38c-4525-ffb6-51aba327ca49"
      },
      "execution_count": 55,
      "outputs": [
        {
          "output_type": "stream",
          "name": "stdout",
          "text": [
            "1.83 ms ± 19.1 µs per loop (mean ± std. dev. of 7 runs, 1000 loops each)\n"
          ]
        },
        {
          "output_type": "execute_result",
          "data": {
            "text/plain": [
              "<TimeitResult : 1.83 ms ± 19.1 µs per loop (mean ± std. dev. of 7 runs, 1000 loops each)>"
            ]
          },
          "metadata": {},
          "execution_count": 55
        }
      ]
    },
    {
      "cell_type": "code",
      "source": [
        "L, U = band_lu(diag_broadcast, n)"
      ],
      "metadata": {
        "id": "YZL5igLgdWzc"
      },
      "execution_count": 11,
      "outputs": []
    },
    {
      "cell_type": "markdown",
      "source": [
        "Создадим двумерный массив в numpy, являющийся трёхдиагональной матрицей"
      ],
      "metadata": {
        "id": "suM4v_Kuaiue"
      }
    },
    {
      "cell_type": "code",
      "source": [
        "Check_array = np.zeros((n, n))\n",
        "for i in range(n):\n",
        "  Check_array[i][i] = diag_broadcast[1]\n",
        "  if i != 0:\n",
        "    Check_array[i][i-1] = diag_broadcast[0]\n",
        "  if i != (n-1):\n",
        "    Check_array[i][i+1] = diag_broadcast[2]\n",
        "print(Check_array)\n"
      ],
      "metadata": {
        "colab": {
          "base_uri": "https://localhost:8080/"
        },
        "id": "LfdxN6BYSzah",
        "outputId": "e6679a8c-cf30-4ddb-c778-21eac7b6d531"
      },
      "execution_count": 44,
      "outputs": [
        {
          "output_type": "stream",
          "name": "stdout",
          "text": [
            "[[24.  4.  0. ...  0.  0.  0.]\n",
            " [10. 24.  4. ...  0.  0.  0.]\n",
            " [ 0. 10. 24. ...  0.  0.  0.]\n",
            " ...\n",
            " [ 0.  0.  0. ... 24.  4.  0.]\n",
            " [ 0.  0.  0. ... 10. 24.  4.]\n",
            " [ 0.  0.  0. ...  0. 10. 24.]]\n"
          ]
        }
      ]
    },
    {
      "cell_type": "markdown",
      "source": [
        "Замеряем время для scipy"
      ],
      "metadata": {
        "id": "O8HpuI6rnXtn"
      }
    },
    {
      "cell_type": "code",
      "source": [
        "from scipy.linalg import lu\n",
        "%timeit -o lu(Check_array)\n"
      ],
      "metadata": {
        "id": "AnalGWV4FVyi",
        "colab": {
          "base_uri": "https://localhost:8080/"
        },
        "outputId": "ad88149b-cb33-4714-e51f-f94dd4f67fb4"
      },
      "execution_count": 13,
      "outputs": [
        {
          "output_type": "stream",
          "name": "stdout",
          "text": [
            "38.5 ms ± 1.46 ms per loop (mean ± std. dev. of 7 runs, 10 loops each)\n"
          ]
        },
        {
          "output_type": "execute_result",
          "data": {
            "text/plain": [
              "<TimeitResult : 38.5 ms ± 1.46 ms per loop (mean ± std. dev. of 7 runs, 10 loops each)>"
            ]
          },
          "metadata": {},
          "execution_count": 13
        }
      ]
    },
    {
      "cell_type": "markdown",
      "source": [
        "Оценим погрешность"
      ],
      "metadata": {
        "id": "oVaobwG1tLUX"
      }
    },
    {
      "cell_type": "code",
      "source": [
        "L_2d = np.eye(n) + np.diag(L[0][:-1], k = -1)\n",
        "U_2d = np.diag(U[:,0]) + np.diag(U[:,1][:-1], k = 1)\n",
        "print(np.linalg.norm(Check_array - L_2d @ U_2d))"
      ],
      "metadata": {
        "colab": {
          "base_uri": "https://localhost:8080/"
        },
        "id": "amy2go-basPa",
        "outputId": "fa205d02-455f-48ba-eb02-c504a2c6b898"
      },
      "execution_count": 14,
      "outputs": [
        {
          "output_type": "stream",
          "name": "stdout",
          "text": [
            "0.0\n"
          ]
        }
      ]
    },
    {
      "cell_type": "markdown",
      "source": [
        "Сделаем вывод, что L и U были найдены верно"
      ],
      "metadata": {
        "id": "UA_NAa7Cu39j"
      }
    },
    {
      "cell_type": "code",
      "source": [
        "from time import time\n",
        "tm = []\n",
        "count = []\n",
        "for i in range (10, 10000, 200):\n",
        "  count.append(i)\n",
        "  time_begin = time()\n",
        "  band_lu(diag_broadcast, i)\n",
        "  time_end = time()\n",
        "  tm.append(time_end - time_begin)\n"
      ],
      "metadata": {
        "id": "-8qZjUEnxOVJ"
      },
      "execution_count": 54,
      "outputs": []
    },
    {
      "cell_type": "markdown",
      "source": [
        "Время LU разложения, по нашей функции, видим, что время не превышает 2 милисекунд"
      ],
      "metadata": {
        "id": "2ZpwUDnqlXWl"
      }
    },
    {
      "cell_type": "code",
      "source": [
        "\n",
        "import matplotlib.pyplot as plt\n",
        "%matplotlib inline\n",
        "plt.plot(tm)\n",
        "plt.show()"
      ],
      "metadata": {
        "colab": {
          "base_uri": "https://localhost:8080/",
          "height": 265
        },
        "id": "x4mzHWq1yUx9",
        "outputId": "a30c1411-c540-4f45-d88f-ed5028996b47"
      },
      "execution_count": 16,
      "outputs": [
        {
          "output_type": "display_data",
          "data": {
            "text/plain": [
              "<Figure size 432x288 with 1 Axes>"
            ],
            "image/png": "[encoded data removed]"
          },
          "metadata": {
            "needs_background": "light"
          }
        }
      ]
    },
    {
      "cell_type": "code",
      "source": [
        "tm2 = []\n",
        "for i in range (10, 10000, 200):\n",
        "  Check_array = np.zeros((i, i))\n",
        "  for j in range(i):\n",
        "    Check_array[j][j] = diag_broadcast[1]\n",
        "    if j != 0:\n",
        "      Check_array[j][j-1] = diag_broadcast[0]\n",
        "    if j != (i-1):\n",
        "      Check_array[j][j+1] = diag_broadcast[2]\n",
        "  time_begin2 = time()\n",
        "  lu(Check_array)\n",
        "  time_end2 = time()\n",
        "  tm2.append(time_end2 - time_begin2)"
      ],
      "metadata": {
        "id": "KDTIGUK_EpKL"
      },
      "execution_count": 46,
      "outputs": []
    },
    {
      "cell_type": "markdown",
      "source": [
        "Время LU разложения для функции scipy, видим, что время заметно увеличиается от кол-ва элементов n"
      ],
      "metadata": {
        "id": "D-0HTx-Vl8Rl"
      }
    },
    {
      "cell_type": "code",
      "source": [
        "\n",
        "plt.plot(tm2)\n",
        "plt.show()"
      ],
      "metadata": {
        "colab": {
          "base_uri": "https://localhost:8080/",
          "height": 265
        },
        "id": "eoIp4mteExbP",
        "outputId": "16ce2f3a-07f8-4452-81a2-a90b2e462a18"
      },
      "execution_count": 47,
      "outputs": [
        {
          "output_type": "display_data",
          "data": {
            "text/plain": [
              "<Figure size 432x288 with 1 Axes>"
            ],
            "image/png": "[encoded data removed]"
          },
          "metadata": {
            "needs_background": "light"
          }
        }
      ]
    },
    {
      "cell_type": "markdown",
      "source": [
        "Сравним время работы функции scipy и band_lu"
      ],
      "metadata": {
        "id": "QDZRRfq0msFA"
      }
    },
    {
      "cell_type": "code",
      "source": [
        "import matplotlib.pyplot as plt\n",
        "%matplotlib inline\n",
        "plt.plot(count, tm, count, tm2)"
      ],
      "metadata": {
        "colab": {
          "base_uri": "https://localhost:8080/",
          "height": 301
        },
        "id": "Y6efPhbfXICN",
        "outputId": "7f643259-7302-45a2-b6a7-3d8a1973806c"
      },
      "execution_count": 52,
      "outputs": [
        {
          "output_type": "execute_result",
          "data": {
            "text/plain": [
              "[<matplotlib.lines.Line2D at 0x7ff466d83150>,\n",
              " <matplotlib.lines.Line2D at 0x7ff466d83390>]"
            ]
          },
          "metadata": {},
          "execution_count": 52
        },
        {
          "output_type": "display_data",
          "data": {
            "text/plain": [
              "<Figure size 432x288 with 1 Axes>"
            ],
            "image/png": "[encoded data removed]"
          },
          "metadata": {
            "needs_background": "light"
          }
        }
      ]
    },
    {
      "cell_type": "markdown",
      "source": [
        "Сделаем вывод, что знание типа матрицы дает очень большой выигрыш в скорости построения LU разложения"
      ],
      "metadata": {
        "id": "Qj6xkxsom0Ok"
      }
    },
    {
      "cell_type": "markdown",
      "source": [
        "### 2. Устойчивость LU разложения (13 pts)\n",
        "\n",
        "Рассмотрим матрицу вида\n",
        "$A = \\begin{pmatrix}\n",
        "\\varepsilon & 1 & 0\\\\\n",
        "1 & 1 & 1 \\\\\n",
        "0 & 1 & 1\n",
        "\\end{pmatrix}.$ \n",
        "* (7 pts) Реализуйте алгоритм вычисления LU разложения без выбора ведущего элемента и с выбором (выберете один из способов, рассмотренных на лекции). Обратите внимание на эффективность вашей реализации, в частности перестановки необходио хранить как векторы, а не матрицы.\n",
        "* (3 pts) Покажите, что ваши реализации работают корректно и согласуются с теорией, то есть вычислите выражение $\\| A - PLUQ\\|_F$ для тестовых примеров (один их них приведён выше)\n",
        "* (3 pts) Объясните, почему алгоритм вычисления LU разложения без выбора ведущего элемента плохо аппроксимирует факторы $L$ и $U$ для $|\\varepsilon|\\ll 1$ в приведённой выше матрице в машинной арифметике? Покажите это явным вычислением."
      ],
      "metadata": {
        "id": "J_fzn2HxnA58"
      }
    },
    {
      "cell_type": "markdown",
      "source": [
        "Алгоритм без выбора ведущего элемента"
      ],
      "metadata": {
        "id": "stJNof9IrAfu"
      }
    },
    {
      "cell_type": "code",
      "source": [
        "def LU_no_leading_element(A):\n",
        "  U = np.copy(A)\n",
        "  L = np.eye(len(A))\n",
        "  for i in range(len(A)):\n",
        "    tmp = U[i + 1:, i] / U[i,i] #dif to make zeros in substraction\n",
        "    L[i + 1:,i] = tmp\n",
        "    tmp_new = tmp[:,np.newaxis]\n",
        "    U[i+1:] = U[i+1:] -  tmp_new * U[i]\n",
        "  return L, U"
      ],
      "metadata": {
        "id": "xMhtwjBZnKh2"
      },
      "execution_count": 215,
      "outputs": []
    },
    {
      "cell_type": "markdown",
      "source": [
        "Алгоритм с выбором ведущего элемента"
      ],
      "metadata": {
        "id": "rYhYQCdmCMr_"
      }
    },
    {
      "cell_type": "code",
      "source": [
        "def LU_leading_element(A):\n",
        "    P = np.arange(len(A))\n",
        "    Q = np.arange(len(A))\n",
        "    U = np.copy(A)\n",
        "    L = np.eye(len(A))\n",
        "    for i in range(len(A)):\n",
        "      max_in_row = np.max(U[i:,i])\n",
        "      if max_in_row != U[i, i]:\n",
        "        find = np.argwhere(U[i:,i] == max_in_row)\n",
        "        U[[i, i + find[0][0]]] = U[[i + find[0][0], i]]\n",
        "        save = P[i]\n",
        "        P[i] = P[i + find[0][0]] \n",
        "        P[i + find[0][0]] = save\n",
        "    for i in range(len(A)):\n",
        "      max_in_line = np.max(U[i, i:])\n",
        "      if max_in_line != U[i, i]:\n",
        "        find = np.argwhere(U[i, i:] == max_in_line)\n",
        "        U[:, [i, i + find[0][0]]] = U[:, [i + find[0][0], i]]\n",
        "        save = Q[i]\n",
        "        Q[i] = Q[i + find[0][0]] \n",
        "        Q[i + find[0][0]] = save\n",
        "    for i in range(len(A)):\n",
        "      tmp = U[i + 1:, i] / U[i,i] \n",
        "      L[i + 1:,i] = tmp\n",
        "      tmp_new = tmp[:,np.newaxis]\n",
        "      U[i+1:] = U[i+1:] -  tmp_new * U[i]\n",
        "    return L, U, P, Q"
      ],
      "metadata": {
        "id": "vA575OEwCMSF"
      },
      "execution_count": 216,
      "outputs": []
    },
    {
      "cell_type": "markdown",
      "source": [
        "Протестируем наши алгоритмы, на входной матрице $$ \n",
        "\\begin{bmatrix} \n",
        "1 & 8 & 1 \\\\ \n",
        "5 & 6 & 9\\\\\n",
        "2 & 3 & 4 \n",
        "\\end{bmatrix}.\n",
        "$$"
      ],
      "metadata": {
        "id": "hcZTQ8A2gJKZ"
      }
    },
    {
      "cell_type": "code",
      "source": [
        "X = np.array([[1., 8., 1.], [5., 6., 9.], [2., 3., 4.]])\n",
        "L, U = LU_no_leading_element(X)\n",
        "print(\"Матрица L:\")\n",
        "print(L)\n",
        "print(\"Матрица U:\")\n",
        "print(U)\n",
        "print(\"Ошибка:\")\n",
        "print(np.linalg.norm(L @ U - X))"
      ],
      "metadata": {
        "colab": {
          "base_uri": "https://localhost:8080/"
        },
        "id": "DCrSS_sr-lP4",
        "outputId": "caf24458-067c-4d49-90dc-00c6c60bcc36"
      },
      "execution_count": 217,
      "outputs": [
        {
          "output_type": "stream",
          "name": "stdout",
          "text": [
            "Матрица L:\n",
            "[[1.         0.         0.        ]\n",
            " [5.         1.         0.        ]\n",
            " [2.         0.38235294 1.        ]]\n",
            "Матрица U:\n",
            "[[  1.           8.           1.        ]\n",
            " [  0.         -34.           4.        ]\n",
            " [  0.           0.           0.47058824]]\n",
            "Ошибка:\n",
            "8.881784197001252e-16\n"
          ]
        }
      ]
    },
    {
      "cell_type": "markdown",
      "source": [
        "Видим, что у алгоритма без выбора ведущего элемента присутсвует небольшая ошибка"
      ],
      "metadata": {
        "id": "lQRNRvcbhKyp"
      }
    },
    {
      "cell_type": "code",
      "source": [
        "L, U, P, Q = LU_leading_element(X)\n",
        "print(\"Матрица L:\")\n",
        "print(L)\n",
        "print(\"Матрица U:\")\n",
        "print(U)\n",
        "print(\"Ошибка:\")\n",
        "print(np.linalg.norm(L @ U - X[P][:, Q]))"
      ],
      "metadata": {
        "colab": {
          "base_uri": "https://localhost:8080/"
        },
        "id": "5JhgPvl5Gqf5",
        "outputId": "c78a1790-971d-4bca-e147-dc566e10104d"
      },
      "execution_count": 218,
      "outputs": [
        {
          "output_type": "stream",
          "name": "stdout",
          "text": [
            "Матрица L:\n",
            "[[1.         0.         0.        ]\n",
            " [0.11111111 1.         0.        ]\n",
            " [0.44444444 0.04545455 1.        ]]\n",
            "Матрица U:\n",
            "[[ 9.          6.          5.        ]\n",
            " [ 0.          7.33333333  0.44444444]\n",
            " [ 0.          0.         -0.24242424]]\n",
            "Ошибка:\n",
            "0.0\n"
          ]
        }
      ]
    },
    {
      "cell_type": "markdown",
      "source": [
        "Видим, что у матрицы с выбором ведущего элемента ошибка минимальна"
      ],
      "metadata": {
        "id": "HSoqctrghTOG"
      }
    },
    {
      "cell_type": "markdown",
      "source": [
        "Протестируем на тесте:\n",
        "$A = \\begin{pmatrix}\n",
        "\\varepsilon & 1 & 0\\\\\n",
        "28 & \\varepsilon & 1 \\\\\n",
        "12 & 23 & 14\n",
        "\\end{pmatrix}.$ "
      ],
      "metadata": {
        "id": "M4TE5Zfvpg02"
      }
    },
    {
      "cell_type": "code",
      "source": [
        "X = np.array([[1e-20, 45., 12.], [28., 1e-20, 1.], [12., 23., 14.]])\n",
        "L, U = LU_no_leading_element(X)\n",
        "print(\"Ошибка:\")\n",
        "print(np.linalg.norm(L @ U - X))"
      ],
      "metadata": {
        "colab": {
          "base_uri": "https://localhost:8080/"
        },
        "id": "emXUYAIWpl50",
        "outputId": "5dc8417a-679c-44f9-b978-9057a1441d3a"
      },
      "execution_count": 236,
      "outputs": [
        {
          "output_type": "stream",
          "name": "stdout",
          "text": [
            "Ошибка:\n",
            "1903651.0636833347\n"
          ]
        }
      ]
    },
    {
      "cell_type": "markdown",
      "source": [
        "Видим огромную ошибку"
      ],
      "metadata": {
        "id": "ynx7khHRqJPD"
      }
    },
    {
      "cell_type": "code",
      "source": [
        "X = np.array([[1e-20, 45., 12.], [28., 1e-20, 1.], [12., 23., 14.]])\n",
        "L, U, P, Q = LU_leading_element(X)\n",
        "print(\"Ошибка:\")\n",
        "print(np.linalg.norm(L @ U - X[P][:, Q]))"
      ],
      "metadata": {
        "colab": {
          "base_uri": "https://localhost:8080/"
        },
        "id": "EKaLh_LKpxns",
        "outputId": "5c372c25-6996-45fd-ed20-7ae886751c54"
      },
      "execution_count": 237,
      "outputs": [
        {
          "output_type": "stream",
          "name": "stdout",
          "text": [
            "Ошибка:\n",
            "0.0\n"
          ]
        }
      ]
    },
    {
      "cell_type": "markdown",
      "source": [
        "Видим, что ошибка минимальна"
      ],
      "metadata": {
        "id": "ut5npYB0qL7K"
      }
    },
    {
      "cell_type": "markdown",
      "source": [
        "Протестируем на тесте:\n",
        "$A = \\begin{pmatrix}\n",
        "\\varepsilon & 1 & 0\\\\\n",
        "1 & 1 & 1 \\\\\n",
        "0 & 1 & 1\n",
        "\\end{pmatrix}.$ "
      ],
      "metadata": {
        "id": "Jn-u4y4FhfjF"
      }
    },
    {
      "cell_type": "markdown",
      "source": [
        "Посчитаем разными методами LU разложение и оценим погрешность с помошью вычисления $\\| A - PLUQ\\|_F$"
      ],
      "metadata": {
        "id": "nnbYnVYLkPxA"
      }
    },
    {
      "cell_type": "code",
      "source": [
        "X = np.array([[1e-100, 1., 0.], [1., 1., 1.], [0., 1., 1.]])\n",
        "L, U = LU_no_leading_element(X)\n",
        "print(\"Ошибка:\")\n",
        "print(np.linalg.norm(L @ U - X))"
      ],
      "metadata": {
        "colab": {
          "base_uri": "https://localhost:8080/"
        },
        "id": "X85gjbI9hpSB",
        "outputId": "962ce491-0c20-4a95-ae5d-a561f63b52e3"
      },
      "execution_count": 225,
      "outputs": [
        {
          "output_type": "stream",
          "name": "stdout",
          "text": [
            "Ошибка:\n",
            "1.0\n"
          ]
        }
      ]
    },
    {
      "cell_type": "code",
      "source": [
        "X = np.array([[1e-100, 1., 0.], [1., 1., 1.], [0., 1., 1.]])\n",
        "L, U, P, Q = LU_leading_element(X)\n",
        "print(\"Ошибка:\")\n",
        "print(np.linalg.norm(L @ U - X[P][:, Q]))"
      ],
      "metadata": {
        "colab": {
          "base_uri": "https://localhost:8080/"
        },
        "id": "Zdd8YQyZizpc",
        "outputId": "d7751d3b-78e3-40bc-81a5-d0c0d5e67b19"
      },
      "execution_count": 226,
      "outputs": [
        {
          "output_type": "stream",
          "name": "stdout",
          "text": [
            "Ошибка:\n",
            "0.0\n"
          ]
        }
      ]
    },
    {
      "cell_type": "markdown",
      "source": [
        "Проверили на тесте с очень малым элементом на диагонали, заметим, что ошибка от выбора ведущего элемента намного меньше ошибки метода без ведущего элемента."
      ],
      "metadata": {
        "id": "8W_ZU3lsi_YH"
      }
    },
    {
      "cell_type": "markdown",
      "source": [
        "Алгоритм вычисления LU разложения без выбора ведущего элемента плохо аппроксимирует факторы $L$ и $U$ для $|\\varepsilon|\\ll 1$, т.к. вычисляя матрицу $U$ нам приходится делить на очень малое значение близкое к нулю, что приводит к неточному делению и ко \"взрыву\" значения, и из-за этого в матрице $U$ появляются очень большие элементы, которые имеют сильно искаженные значения"
      ],
      "metadata": {
        "id": "GO7xwk3ejWwB"
      }
    },
    {
      "cell_type": "code",
      "source": [
        "X = np.array([[1e-100, 1., 0.], [1., 1., 1.], [0., 1., 1.]])\n",
        "L, U = LU_no_leading_element(X)\n",
        "print(\"Матрица L:\")\n",
        "print(L)\n",
        "print(\"Матрица U:\")\n",
        "print(U)\n",
        "print(\"L @ U\")\n",
        "print(L @ U)"
      ],
      "metadata": {
        "colab": {
          "base_uri": "https://localhost:8080/"
        },
        "id": "B4mMPo1GldLF",
        "outputId": "edc7ec96-7eb8-49c7-a139-565ec1736874"
      },
      "execution_count": 233,
      "outputs": [
        {
          "output_type": "stream",
          "name": "stdout",
          "text": [
            "Матрица L:\n",
            "[[ 1.e+000  0.e+000  0.e+000]\n",
            " [ 1.e+100  1.e+000  0.e+000]\n",
            " [ 0.e+000 -1.e-100  1.e+000]]\n",
            "Матрица U:\n",
            "[[ 1.e-100  1.e+000  0.e+000]\n",
            " [ 0.e+000 -1.e+100  1.e+000]\n",
            " [ 0.e+000  0.e+000  1.e+000]]\n",
            "L @ U\n",
            "[[1.e-100 1.e+000 0.e+000]\n",
            " [1.e+000 0.e+000 1.e+000]\n",
            " [0.e+000 1.e+000 1.e+000]]\n"
          ]
        }
      ]
    },
    {
      "cell_type": "markdown",
      "source": [
        "Как можно заметить в U[1][1] возникает очень большое значение, значение котрого сильно округолено и искажено, что приводит при умножнии матрицы L на U, к неверному результату в виде 0, в ячейке [1][1]"
      ],
      "metadata": {
        "id": "ktQmwcZZnVx2"
      }
    },
    {
      "cell_type": "code",
      "source": [
        "X = np.array([[1e-100, 1., 0.], [1., 1., 1.], [0., 1., 1.]])\n",
        "L, U, P, Q = LU_leading_element(X)\n",
        "print(\"Матрица L:\")\n",
        "print(L)\n",
        "print(\"Матрица U:\")\n",
        "print(U)\n"
      ],
      "metadata": {
        "colab": {
          "base_uri": "https://localhost:8080/"
        },
        "id": "SBWkfPJpmHue",
        "outputId": "3b127340-bac4-4f30-8419-21c7e15fede4"
      },
      "execution_count": 239,
      "outputs": [
        {
          "output_type": "stream",
          "name": "stdout",
          "text": [
            "Матрица L:\n",
            "[[1.e+000 0.e+000 0.e+000]\n",
            " [1.e-100 1.e+000 0.e+000]\n",
            " [0.e+000 1.e+000 1.e+000]]\n",
            "Матрица U:\n",
            "[[ 1.e+000  1.e+000  1.e+000]\n",
            " [ 0.e+000  1.e+000 -1.e-100]\n",
            " [ 0.e+000  0.e+000  1.e+000]]\n"
          ]
        }
      ]
    },
    {
      "cell_type": "markdown",
      "source": [
        "Видим, что алгоритм с выбором ведущего элемента хорошо справляется с этой проблемой, т.к. мы меньшие элементы делим на большие, что не приводит ко \"взрыву\" значений"
      ],
      "metadata": {
        "id": "6Bmd_4WfpIDX"
      }
    },
    {
      "cell_type": "markdown",
      "source": [
        "### 3. Блочное LU разложение (6 pts)\n",
        "\n",
        "Пусть $A = \\begin{bmatrix} A_{11} & A_{12} \\\\ A_{21} & A_{22} \\end{bmatrix}$ – блочная матрица. Необходимо решить систему линейных уравнений вида\n",
        "\n",
        "$$\n",
        "     \\begin{bmatrix} A_{11} & A_{12} \\\\ A_{21} & A_{22} \\end{bmatrix} \\begin{bmatrix} u_1 \\\\ u_2 \\end{bmatrix} = \\begin{bmatrix} f_1 \\\\ f_2 \\end{bmatrix}.\n",
        "$$\n",
        "\n",
        "* (2 pts) Используя процедуру блочного исключения, найдите матрицу $S$ и правую часть $\\hat{f_2}$ такую что $u_2$ может быть найден из системы $S u_2 = \\hat{f_2}$. Матрица $S$ называется <font color='red'> дополнением по Шуру </font> блока  $A_{11}$.\n",
        "\n",
        "* (4 pts) Пусть $A_{12} = A_{21}^\\top$. Покажите, что если $A_{22} \\succ 0$, то $A \\succ 0 \\Leftrightarrow A_{11} - A_{12} A_{22}^{-1} A_{21} \\succ 0$ "
      ],
      "metadata": {
        "id": "jJjO2_qL1SD3"
      }
    },
    {
      "cell_type": "markdown",
      "source": [
        "$$\n",
        "     \\begin{bmatrix} A_{11} & A_{12} \\\\ A_{21} & A_{22} \\end{bmatrix} \\begin{bmatrix} u_1 \\\\ u_2 \\end{bmatrix} = \\begin{bmatrix} f_1 \\\\ f_2 \\end{bmatrix}.\n",
        "$$\n",
        "$A_{11}u_1 + A_{12}u_2 = f_1$ \\\\\n",
        "$A_{21}u_1 + A_{22}u_2 = f_2$  \\\\\n",
        "$u_2 = A_{22}^{-1}(f_2 - A_{21}u_1)$ \\\\\n",
        "Подставим $u_2$ в первое уравнение \\\\\n",
        "$A_{11}u_1 + A_{12}(A_{22}^{-1}(f_2 - A_{21}u_1)) = f_1$ следоавтельно \\\\\n",
        "$(A_{11} - A_{12}A_{22}^{-1}A_{21})u_1 = f_1 - A_{12}A_{22}^{-1}f_2$ \\\\\n",
        "матрица $A_{11} - A_{12}A_{22}^{-1}A_{21}$ является матрицой $S$, дополнением по Шуру. \\\\\n",
        "$u_2$ будет выражаться через матрицу S, и правую часть: \\\\\n",
        "т.к. \n",
        "$u_1 = S^{-1}(f_1 - A_{12}A_{22}^{-1}f_2)$ следовательно $u_2 = A_{22}^{-1}(f_2 - A_{21}S^{-1}(f_1 - A_{12}A_{22}^{-1}f_2))$"
      ],
      "metadata": {
        "id": "XziWd5cM1Tm3"
      }
    }
  ]
}